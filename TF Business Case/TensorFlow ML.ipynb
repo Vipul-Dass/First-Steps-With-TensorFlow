{
 "cells": [
  {
   "cell_type": "code",
   "execution_count": 1,
   "metadata": {},
   "outputs": [],
   "source": [
    "import numpy as np\n",
    "import tensorflow as tf\n"
   ]
  },
  {
   "cell_type": "code",
   "execution_count": 2,
   "metadata": {},
   "outputs": [],
   "source": [
    "#read the 3 files then split them into respective input and targets\n",
    "npz1 = np.load('Audiobooks_data_train.npz')\n",
    "train_inputs = npz1['inputs'].astype(np.float)\n",
    "train_targets= npz1['targets'].astype(np.float)\n",
    "\n",
    "\n",
    "\n",
    "npz2 = np.load('Audiobooks_data_validation.npz')\n",
    "validation_inputs = npz2['inputs'].astype(np.float)\n",
    "validation_targets= npz2['targets'].astype(np.float)\n",
    "\n",
    "\n",
    "\n",
    "\n",
    "npz3 = np.load('Audiobooks_data_test.npz')\n",
    "test_inputs = npz1['inputs'].astype(np.float)\n",
    "test_targets= npz1['targets'].astype(np.float)\n",
    "\n",
    "\n"
   ]
  },
  {
   "cell_type": "markdown",
   "metadata": {},
   "source": [
    "# Model"
   ]
  },
  {
   "cell_type": "code",
   "execution_count": 6,
   "metadata": {},
   "outputs": [
    {
     "name": "stdout",
     "output_type": "stream",
     "text": [
      "Epoch 1/100\n",
      "36/36 - 1s - loss: 0.5683 - accuracy: 0.7114 - val_loss: 0.4828 - val_accuracy: 0.7696\n",
      "Epoch 2/100\n",
      "36/36 - 0s - loss: 0.4521 - accuracy: 0.7695 - val_loss: 0.4179 - val_accuracy: 0.7718\n",
      "Epoch 3/100\n",
      "36/36 - 0s - loss: 0.4077 - accuracy: 0.7980 - val_loss: 0.4014 - val_accuracy: 0.7539\n",
      "Epoch 4/100\n",
      "36/36 - 0s - loss: 0.3879 - accuracy: 0.7938 - val_loss: 0.3729 - val_accuracy: 0.7942\n",
      "Epoch 5/100\n",
      "36/36 - 0s - loss: 0.3733 - accuracy: 0.7999 - val_loss: 0.3622 - val_accuracy: 0.8054\n",
      "Epoch 6/100\n",
      "36/36 - 0s - loss: 0.3673 - accuracy: 0.8030 - val_loss: 0.3590 - val_accuracy: 0.8098\n",
      "Epoch 7/100\n",
      "36/36 - 0s - loss: 0.3597 - accuracy: 0.8086 - val_loss: 0.3621 - val_accuracy: 0.8054\n",
      "Epoch 8/100\n",
      "36/36 - 0s - loss: 0.3532 - accuracy: 0.8106 - val_loss: 0.3496 - val_accuracy: 0.8054\n",
      "Epoch 9/100\n",
      "36/36 - 0s - loss: 0.3494 - accuracy: 0.8111 - val_loss: 0.3520 - val_accuracy: 0.8054\n",
      "Epoch 10/100\n",
      "36/36 - 0s - loss: 0.3475 - accuracy: 0.8103 - val_loss: 0.3542 - val_accuracy: 0.7919\n"
     ]
    },
    {
     "data": {
      "text/plain": [
       "<tensorflow.python.keras.callbacks.History at 0x27240e2eca0>"
      ]
     },
     "execution_count": 6,
     "metadata": {},
     "output_type": "execute_result"
    }
   ],
   "source": [
    "#hyperparameters\n",
    "input_sizze = 10\n",
    "output = 2\n",
    "batch_size = 100\n",
    "max_epochs = 100\n",
    "hidden_layer = 50\n",
    "\n",
    "#create\n",
    "model = tf.keras.Sequential([\n",
    "                            tf.keras.layers.Dense(hidden_layer,activation = 'relu'),\n",
    "                            tf.keras.layers.Dense(hidden_layer,activation = 'relu'),\n",
    "                            tf.keras.layers.Dense(output,activation = 'softmax')\n",
    "                            ])\n",
    "\n",
    "#compile\n",
    "model.compile(optimizer = 'adam', loss = 'sparse_categorical_crossentropy', metrics = ['accuracy'])\n",
    "\n",
    "\n",
    "\n",
    "#early stopping\n",
    "early_stopping = tf.keras.callbacks.EarlyStopping(patience=2)\n",
    "\n",
    "#fit via training and validate later\n",
    "model.fit(train_inputs, \n",
    "          train_targets, \n",
    "          batch_size=batch_size, \n",
    "          epochs=max_epochs, \n",
    "          callbacks=[early_stopping], \n",
    "          validation_data=(validation_inputs, validation_targets), \n",
    "          verbose = 2)"
   ]
  },
  {
   "cell_type": "markdown",
   "metadata": {},
   "source": [
    "# Test"
   ]
  },
  {
   "cell_type": "code",
   "execution_count": 7,
   "metadata": {},
   "outputs": [
    {
     "name": "stdout",
     "output_type": "stream",
     "text": [
      "112/112 [==============================] - 0s 1ms/step - loss: 0.3415 - accuracy: 0.8150\n"
     ]
    }
   ],
   "source": [
    "test_loss, test_accuracy = model.evaluate(test_inputs, test_targets)"
   ]
  },
  {
   "cell_type": "code",
   "execution_count": 8,
   "metadata": {},
   "outputs": [
    {
     "name": "stdout",
     "output_type": "stream",
     "text": [
      "\n",
      "Test loss: 0.34. Test accuracy: 81.50%\n"
     ]
    }
   ],
   "source": [
    "print('\\nTest loss: {0:.2f}. Test accuracy: {1:.2f}%'.format(test_loss, test_accuracy*100.))"
   ]
  },
  {
   "cell_type": "code",
   "execution_count": null,
   "metadata": {},
   "outputs": [],
   "source": []
  }
 ],
 "metadata": {
  "kernelspec": {
   "display_name": "Python 3",
   "language": "python",
   "name": "python3"
  },
  "language_info": {
   "codemirror_mode": {
    "name": "ipython",
    "version": 3
   },
   "file_extension": ".py",
   "mimetype": "text/x-python",
   "name": "python",
   "nbconvert_exporter": "python",
   "pygments_lexer": "ipython3",
   "version": "3.8.5"
  }
 },
 "nbformat": 4,
 "nbformat_minor": 4
}
