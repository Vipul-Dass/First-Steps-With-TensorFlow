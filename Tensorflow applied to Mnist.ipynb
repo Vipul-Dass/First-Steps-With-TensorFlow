{
 "cells": [
  {
   "cell_type": "code",
   "execution_count": 1,
   "metadata": {},
   "outputs": [],
   "source": [
    "import numpy as np\n",
    "import tensorflow as tf\n",
    "\n",
    "import tensorflow_datasets as tfds"
   ]
  },
  {
   "cell_type": "code",
   "execution_count": 2,
   "metadata": {},
   "outputs": [],
   "source": [
    "mnist_dataset, mnist_info = tfds.load('mnist',with_info = True, as_supervised = True)\n",
    "\n",
    "mnist_train, mnist_test = mnist_dataset['train'],mnist_dataset['test']"
   ]
  },
  {
   "cell_type": "code",
   "execution_count": 8,
   "metadata": {},
   "outputs": [
    {
     "data": {
      "text/plain": [
       "<tf.Tensor: shape=(), dtype=int64, numpy=6000>"
      ]
     },
     "execution_count": 8,
     "metadata": {},
     "output_type": "execute_result"
    }
   ],
   "source": [
    "num_validation_samples = 0.1*mnist_info.splits['train'].num_examples\n",
    "\n",
    "num_validation_samples = tf.cast(num_validation_samples, tf.int64)\n",
    "\n",
    "num_validation_samples"
   ]
  },
  {
   "cell_type": "code",
   "execution_count": 9,
   "metadata": {},
   "outputs": [
    {
     "data": {
      "text/plain": [
       "<tf.Tensor: shape=(), dtype=int64, numpy=10000>"
      ]
     },
     "execution_count": 9,
     "metadata": {},
     "output_type": "execute_result"
    }
   ],
   "source": [
    "num_test_samples = mnist_info.splits['test'].num_examples\n",
    "\n",
    "num_test_samples = tf.cast(num_test_samples, tf.int64)\n",
    "\n",
    "num_test_samples"
   ]
  },
  {
   "cell_type": "code",
   "execution_count": 13,
   "metadata": {},
   "outputs": [],
   "source": [
    "def scale(image,label):\n",
    "    \n",
    "    image = tf.cast(image,tf.float32)\n",
    "    image /= 255\n",
    "    \n",
    "    return image, label\n",
    "    \n",
    "    "
   ]
  },
  {
   "cell_type": "code",
   "execution_count": 14,
   "metadata": {},
   "outputs": [],
   "source": [
    "scaled_train_validation_data = mnist_dataset['train'].map(scale)\n",
    "\n",
    "scaled_test_data = mnist_dataset['test'].map(scale)"
   ]
  },
  {
   "cell_type": "code",
   "execution_count": 15,
   "metadata": {},
   "outputs": [],
   "source": [
    "buffer = 10000\n",
    "\n",
    "shuffled_train_validation_data = scaled_train_validation_data.shuffle(buffer)\n",
    "\n",
    "validation_data = shuffled_train_validation_data.take(num_validation_samples)\n",
    "train_data      = shuffled_train_validation_data.skip(num_validation_samples)\n",
    "\n",
    "batch = 100\n",
    "\n",
    "train_data      = train_data.batch(batch)\n",
    "validation_data = validation_data.batch(num_validation_samples)\n",
    "test_data       = scaled_test_data.batch(num_test_samples)\n",
    "\n",
    "\n",
    "\n",
    "\n",
    "# takes next batch (it is the only batch)\n",
    "# because as_supervized=True, we've got a 2-tuple structure\n",
    "validation_inputs, validation_targets = next(iter(validation_data))"
   ]
  },
  {
   "cell_type": "markdown",
   "metadata": {},
   "source": [
    "# Model\n",
    "\n",
    "Hyperparameters to adjust :\n",
    "\n",
    "- width ->  hidden_layer\n",
    "- depth ->  tf.keras.layers.Dense(hidden_layer,activation = 'relu'/'sigmoid'/'tanh'/'softmax')\n",
    "- learning rate -> custom = tf.keras.optimizers.Adam(learning_rate=0.0001)\n",
    "  followed by model.compile(optimizer = custom,loss='sparse_categorical_crossentropy,metrics = ['accuracy'])\n",
    "\n",
    "- epochs\n",
    "- batch size for train set"
   ]
  },
  {
   "cell_type": "code",
   "execution_count": 34,
   "metadata": {},
   "outputs": [],
   "source": [
    "hidden_layer = 200\n",
    "output_size = 10\n",
    "model = tf.keras.Sequential([\n",
    "                            tf.keras.layers.Flatten(input_shape = (28,28,1)),\n",
    "                            \n",
    "                            tf.keras.layers.Dense(hidden_layer,activation = 'relu'),\n",
    "                            tf.keras.layers.Dense(hidden_layer,activation = 'relu'),\n",
    "                            tf.keras.layers.Dense(hidden_layer,activation = 'relu'),\n",
    "    \n",
    "                            tf.keras.layers.Dense(output_size,activation='softmax')])"
   ]
  },
  {
   "cell_type": "code",
   "execution_count": 35,
   "metadata": {},
   "outputs": [],
   "source": [
    "## Optimizer, Loss, Metrics\n",
    "\n",
    "model.compile(\n",
    "              optimizer = 'adam', \n",
    "              loss='sparse_categorical_crossentropy',\n",
    "              metrics=['accuracy']\n",
    "             )"
   ]
  },
  {
   "cell_type": "code",
   "execution_count": 36,
   "metadata": {
    "scrolled": true
   },
   "outputs": [
    {
     "name": "stdout",
     "output_type": "stream",
     "text": [
      "Epoch 1/10\n",
      "540/540 - 4s - loss: 0.2641 - accuracy: 0.9218 - val_loss: 0.1197 - val_accuracy: 0.9637\n",
      "Epoch 2/10\n",
      "540/540 - 4s - loss: 0.1009 - accuracy: 0.9687 - val_loss: 0.0797 - val_accuracy: 0.9747\n",
      "Epoch 3/10\n",
      "540/540 - 4s - loss: 0.0702 - accuracy: 0.9785 - val_loss: 0.0606 - val_accuracy: 0.9810\n",
      "Epoch 4/10\n",
      "540/540 - 4s - loss: 0.0521 - accuracy: 0.9831 - val_loss: 0.0548 - val_accuracy: 0.9822\n",
      "Epoch 5/10\n",
      "540/540 - 4s - loss: 0.0412 - accuracy: 0.9868 - val_loss: 0.0562 - val_accuracy: 0.9850\n",
      "Epoch 6/10\n",
      "540/540 - 4s - loss: 0.0367 - accuracy: 0.9886 - val_loss: 0.0416 - val_accuracy: 0.9870\n",
      "Epoch 7/10\n",
      "540/540 - 3s - loss: 0.0277 - accuracy: 0.9912 - val_loss: 0.0343 - val_accuracy: 0.9898\n",
      "Epoch 8/10\n",
      "540/540 - 3s - loss: 0.0286 - accuracy: 0.9904 - val_loss: 0.0279 - val_accuracy: 0.9928\n",
      "Epoch 9/10\n",
      "540/540 - 4s - loss: 0.0195 - accuracy: 0.9936 - val_loss: 0.0260 - val_accuracy: 0.9915\n",
      "Epoch 10/10\n",
      "540/540 - 3s - loss: 0.0228 - accuracy: 0.9928 - val_loss: 0.0224 - val_accuracy: 0.9928\n"
     ]
    },
    {
     "data": {
      "text/plain": [
       "<tensorflow.python.keras.callbacks.History at 0x2bbcef76e50>"
      ]
     },
     "execution_count": 36,
     "metadata": {},
     "output_type": "execute_result"
    }
   ],
   "source": [
    "## Train\n",
    "\n",
    "epochss = 10\n",
    "\n",
    "model.fit(train_data, epochs=epochss, validation_data=(validation_inputs, validation_targets), verbose =2)"
   ]
  },
  {
   "cell_type": "markdown",
   "metadata": {},
   "source": [
    "# Test\n",
    "\n",
    "- remember to only run the test once because this is the test case.\n",
    "- multiple runnings will cause overfitting on test data and make this useless.\n",
    "- multiple runnings can only be done on the train set when tuning hyperparameters\n",
    "  for greater accuracy on the validation data."
   ]
  },
  {
   "cell_type": "code",
   "execution_count": 37,
   "metadata": {},
   "outputs": [
    {
     "name": "stdout",
     "output_type": "stream",
     "text": [
      "1/1 [==============================] - 1s 754ms/step - loss: 0.0873 - accuracy: 0.9775\n"
     ]
    }
   ],
   "source": [
    "test_loss, test_accuracy = model.evaluate(test_data)"
   ]
  },
  {
   "cell_type": "code",
   "execution_count": 38,
   "metadata": {},
   "outputs": [
    {
     "name": "stdout",
     "output_type": "stream",
     "text": [
      "Test loss: 0.09. Test accuracy: 97.75%\n"
     ]
    }
   ],
   "source": [
    "print('Test loss: {0:.2f}. Test accuracy: {1:.2f}%'.format(test_loss, test_accuracy*100.))"
   ]
  },
  {
   "cell_type": "code",
   "execution_count": null,
   "metadata": {},
   "outputs": [],
   "source": []
  }
 ],
 "metadata": {
  "kernelspec": {
   "display_name": "Python 3",
   "language": "python",
   "name": "python3"
  },
  "language_info": {
   "codemirror_mode": {
    "name": "ipython",
    "version": 3
   },
   "file_extension": ".py",
   "mimetype": "text/x-python",
   "name": "python",
   "nbconvert_exporter": "python",
   "pygments_lexer": "ipython3",
   "version": "3.8.5"
  }
 },
 "nbformat": 4,
 "nbformat_minor": 4
}
