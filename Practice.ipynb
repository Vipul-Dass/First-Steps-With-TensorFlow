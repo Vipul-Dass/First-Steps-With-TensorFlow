{
 "cells": [
  {
   "cell_type": "code",
   "execution_count": 1,
   "metadata": {},
   "outputs": [],
   "source": [
    "import numpy as np\n",
    "import tensorflow as tf\n",
    "import matplotlib.pyplot as plt\n",
    "import seaborn as sns\n",
    "sns.set()\n",
    "\n",
    "import pandas as pd"
   ]
  },
  {
   "cell_type": "markdown",
   "metadata": {},
   "source": [
    "# generate a dataset and an equation"
   ]
  },
  {
   "cell_type": "markdown",
   "metadata": {},
   "source": [
    "## Function to generate inputs and stack them in an array"
   ]
  },
  {
   "cell_type": "code",
   "execution_count": 2,
   "metadata": {},
   "outputs": [],
   "source": [
    "\n",
    "\n",
    "#generate inputs and stack them into one array\n",
    "def generate_random_inputs_and_targets(observations):\n",
    "    xs = np.random.uniform(-10,10,size =(observations,1))\n",
    "    zs = np.random.uniform(-10,10,size =(observations,1))\n",
    "    generated_inputs = np.column_stack((xs,zs))\n",
    "\n",
    "    #generate some noise/error for the objective function\n",
    "    noise = np.random.uniform(-1,-1,size = (observations,1))\n",
    "\n",
    "    #objective function\n",
    "    generated_target = 2*xs + 3*zs + 5 + noise\n",
    "\n",
    "    #save all this to an external fine. \n",
    "    #Tensorflow uses the .npz format.\n",
    "\n",
    "    np.savez('TF_intro_from_ex2',inputs = generated_inputs, targets = generated_target)\n",
    "\n"
   ]
  },
  {
   "cell_type": "code",
   "execution_count": 3,
   "metadata": {},
   "outputs": [],
   "source": [
    "#load the data\n",
    "training = np.load('TF_intro_from_ex2.npz')\n"
   ]
  },
  {
   "cell_type": "markdown",
   "metadata": {},
   "source": [
    "## Function to set model"
   ]
  },
  {
   "cell_type": "code",
   "execution_count": 4,
   "metadata": {},
   "outputs": [],
   "source": [
    "#define function for model to be used\n",
    "\n",
    "#assign model to variable. Sequential\n",
    "#tf.keras.layers.Dense describe output size of 1\n",
    "def model_set(input_size,output_size):\n",
    "    \n",
    "\n",
    "    model = tf.keras.Sequential(\n",
    "                                [tf.keras.layers.Dense(output_size)]\n",
    "                                )\n",
    "    #describe what rules model will use to fit values\n",
    "    #gradient descent = optimization algorithm\n",
    "    \n",
    "    model.compile(optimizer = 'sgd',loss = 'mean_squared_error')\n",
    "    \n",
    "    return model\n",
    "\n",
    "#Estimators can be constructed without optimization when you have some framework \n",
    "#which lets you analytically derive, rather than search for, your estimator.\n",
    "#German Tank Problem\n",
    "\n",
    "#you'd call it an optimisation problem if the best known approach \n",
    "#is to search for a solution, rather than calculate a solution.\n",
    "\n",
    "\n",
    "\n",
    "\n"
   ]
  },
  {
   "cell_type": "markdown",
   "metadata": {},
   "source": [
    "## Function for Fitting the Model"
   ]
  },
  {
   "cell_type": "code",
   "execution_count": 5,
   "metadata": {},
   "outputs": [
    {
     "name": "stdout",
     "output_type": "stream",
     "text": [
      "Defined create_model and train_model\n"
     ]
    }
   ],
   "source": [
    "#define function for fitting the model.\n",
    "\n",
    "def model_fit(model,input_data,target_data,epoch,vbose):\n",
    "\n",
    "    #important to specify x = input_data and so on.\n",
    "    history = model.fit(x = input_data,y = target_data, epochs = epoch,verbose = vbose)\n",
    "    \n",
    "    trained_weight = model.get_weights()[0]\n",
    "    trained_bias = model.get_weights()[1]\n",
    "    \n",
    "    epoch_ops = history.epoch\n",
    "    \n",
    "    hist = pd.DataFrame(history.history)\n",
    "    \n",
    "    \n",
    "\n",
    "    return trained_weight, trained_bias,epoch_ops\n",
    "\n",
    "print(\"Defined create_model and train_model\")"
   ]
  },
  {
   "cell_type": "markdown",
   "metadata": {},
   "source": [
    "# Executing Model"
   ]
  },
  {
   "cell_type": "code",
   "execution_count": 6,
   "metadata": {},
   "outputs": [
    {
     "name": "stdout",
     "output_type": "stream",
     "text": [
      "Epoch 1/100\n",
      "32/32 - 0s - loss: 38.5609\n",
      "Epoch 2/100\n",
      "32/32 - 0s - loss: 2.7827\n",
      "Epoch 3/100\n",
      "32/32 - 0s - loss: 0.7525\n",
      "Epoch 4/100\n",
      "32/32 - 0s - loss: 0.2141\n",
      "Epoch 5/100\n",
      "32/32 - 0s - loss: 0.0597\n",
      "Epoch 6/100\n",
      "32/32 - 0s - loss: 0.0158\n",
      "Epoch 7/100\n",
      "32/32 - 0s - loss: 0.0044\n",
      "Epoch 8/100\n",
      "32/32 - 0s - loss: 0.0012\n",
      "Epoch 9/100\n",
      "32/32 - 0s - loss: 3.2432e-04\n",
      "Epoch 10/100\n",
      "32/32 - 0s - loss: 9.0852e-05\n",
      "Epoch 11/100\n",
      "32/32 - 0s - loss: 2.4892e-05\n",
      "Epoch 12/100\n",
      "32/32 - 0s - loss: 6.8821e-06\n",
      "Epoch 13/100\n",
      "32/32 - 0s - loss: 1.8948e-06\n",
      "Epoch 14/100\n",
      "32/32 - 0s - loss: 5.2508e-07\n",
      "Epoch 15/100\n",
      "32/32 - 0s - loss: 1.4577e-07\n",
      "Epoch 16/100\n",
      "32/32 - 0s - loss: 3.8687e-08\n",
      "Epoch 17/100\n",
      "32/32 - 0s - loss: 1.0435e-08\n",
      "Epoch 18/100\n",
      "32/32 - 0s - loss: 2.8644e-09\n",
      "Epoch 19/100\n",
      "32/32 - 0s - loss: 7.7569e-10\n",
      "Epoch 20/100\n",
      "32/32 - 0s - loss: 2.2407e-10\n",
      "Epoch 21/100\n",
      "32/32 - 0s - loss: 5.9749e-11\n",
      "Epoch 22/100\n",
      "32/32 - 0s - loss: 3.0193e-11\n",
      "Epoch 23/100\n",
      "32/32 - 0s - loss: 2.8372e-11\n",
      "Epoch 24/100\n",
      "32/32 - 0s - loss: 2.2752e-11\n",
      "Epoch 25/100\n",
      "32/32 - 0s - loss: 2.3246e-11\n",
      "Epoch 26/100\n",
      "32/32 - 0s - loss: 2.4078e-11\n",
      "Epoch 27/100\n",
      "32/32 - 0s - loss: 2.2996e-11\n",
      "Epoch 28/100\n",
      "32/32 - 0s - loss: 2.3468e-11\n",
      "Epoch 29/100\n",
      "32/32 - 0s - loss: 2.3277e-11\n",
      "Epoch 30/100\n",
      "32/32 - 0s - loss: 2.4064e-11\n",
      "Epoch 31/100\n",
      "32/32 - 0s - loss: 2.3435e-11\n",
      "Epoch 32/100\n",
      "32/32 - 0s - loss: 2.3443e-11\n",
      "Epoch 33/100\n",
      "32/32 - 0s - loss: 2.2994e-11\n",
      "Epoch 34/100\n",
      "32/32 - 0s - loss: 2.3850e-11\n",
      "Epoch 35/100\n",
      "32/32 - 0s - loss: 2.3937e-11\n",
      "Epoch 36/100\n",
      "32/32 - 0s - loss: 2.3840e-11\n",
      "Epoch 37/100\n",
      "32/32 - 0s - loss: 2.3998e-11\n",
      "Epoch 38/100\n",
      "32/32 - 0s - loss: 2.4071e-11\n",
      "Epoch 39/100\n",
      "32/32 - 0s - loss: 2.3774e-11\n",
      "Epoch 40/100\n",
      "32/32 - 0s - loss: 2.3656e-11\n",
      "Epoch 41/100\n",
      "32/32 - 0s - loss: 2.4382e-11\n",
      "Epoch 42/100\n",
      "32/32 - 0s - loss: 2.3373e-11\n",
      "Epoch 43/100\n",
      "32/32 - 0s - loss: 2.3219e-11\n",
      "Epoch 44/100\n",
      "32/32 - 0s - loss: 2.2941e-11\n",
      "Epoch 45/100\n",
      "32/32 - 0s - loss: 2.3520e-11\n",
      "Epoch 46/100\n",
      "32/32 - 0s - loss: 2.3648e-11\n",
      "Epoch 47/100\n",
      "32/32 - 0s - loss: 2.3193e-11\n",
      "Epoch 48/100\n",
      "32/32 - 0s - loss: 2.3289e-11\n",
      "Epoch 49/100\n",
      "32/32 - 0s - loss: 2.2968e-11\n",
      "Epoch 50/100\n",
      "32/32 - 0s - loss: 2.3469e-11\n",
      "Epoch 51/100\n",
      "32/32 - 0s - loss: 2.4506e-11\n",
      "Epoch 52/100\n",
      "32/32 - 0s - loss: 2.3917e-11\n",
      "Epoch 53/100\n",
      "32/32 - 0s - loss: 2.3254e-11\n",
      "Epoch 54/100\n",
      "32/32 - 0s - loss: 2.3076e-11\n",
      "Epoch 55/100\n",
      "32/32 - 0s - loss: 2.3978e-11\n",
      "Epoch 56/100\n",
      "32/32 - 0s - loss: 2.3908e-11\n",
      "Epoch 57/100\n",
      "32/32 - 0s - loss: 2.2729e-11\n",
      "Epoch 58/100\n",
      "32/32 - 0s - loss: 2.3242e-11\n",
      "Epoch 59/100\n",
      "32/32 - 0s - loss: 2.3419e-11\n",
      "Epoch 60/100\n",
      "32/32 - 0s - loss: 2.2959e-11\n",
      "Epoch 61/100\n",
      "32/32 - 0s - loss: 2.3398e-11\n",
      "Epoch 62/100\n",
      "32/32 - 0s - loss: 2.3023e-11\n",
      "Epoch 63/100\n",
      "32/32 - 0s - loss: 2.2623e-11\n",
      "Epoch 64/100\n",
      "32/32 - 0s - loss: 2.4243e-11\n",
      "Epoch 65/100\n",
      "32/32 - 0s - loss: 2.3342e-11\n",
      "Epoch 66/100\n",
      "32/32 - 0s - loss: 2.3472e-11\n",
      "Epoch 67/100\n",
      "32/32 - 0s - loss: 2.3664e-11\n",
      "Epoch 68/100\n",
      "32/32 - 0s - loss: 2.3625e-11\n",
      "Epoch 69/100\n",
      "32/32 - 0s - loss: 2.3011e-11\n",
      "Epoch 70/100\n",
      "32/32 - 0s - loss: 2.3174e-11\n",
      "Epoch 71/100\n",
      "32/32 - 0s - loss: 2.3374e-11\n",
      "Epoch 72/100\n",
      "32/32 - 0s - loss: 2.2666e-11\n",
      "Epoch 73/100\n",
      "32/32 - 0s - loss: 2.3480e-11\n",
      "Epoch 74/100\n",
      "32/32 - 0s - loss: 2.2844e-11\n",
      "Epoch 75/100\n",
      "32/32 - 0s - loss: 2.2555e-11\n",
      "Epoch 76/100\n",
      "32/32 - 0s - loss: 2.3385e-11\n",
      "Epoch 77/100\n",
      "32/32 - 0s - loss: 2.3365e-11\n",
      "Epoch 78/100\n",
      "32/32 - 0s - loss: 2.3659e-11\n",
      "Epoch 79/100\n",
      "32/32 - 0s - loss: 2.3523e-11\n",
      "Epoch 80/100\n",
      "32/32 - 0s - loss: 2.4188e-11\n",
      "Epoch 81/100\n",
      "32/32 - 0s - loss: 2.3487e-11\n",
      "Epoch 82/100\n",
      "32/32 - 0s - loss: 2.4323e-11\n",
      "Epoch 83/100\n",
      "32/32 - 0s - loss: 2.2507e-11\n",
      "Epoch 84/100\n",
      "32/32 - 0s - loss: 2.3775e-11\n",
      "Epoch 85/100\n",
      "32/32 - 0s - loss: 2.3149e-11\n",
      "Epoch 86/100\n",
      "32/32 - 0s - loss: 2.3432e-11\n",
      "Epoch 87/100\n",
      "32/32 - 0s - loss: 2.2688e-11\n",
      "Epoch 88/100\n",
      "32/32 - 0s - loss: 2.4526e-11\n",
      "Epoch 89/100\n",
      "32/32 - 0s - loss: 2.3685e-11\n",
      "Epoch 90/100\n",
      "32/32 - 0s - loss: 2.3355e-11\n",
      "Epoch 91/100\n",
      "32/32 - 0s - loss: 2.4147e-11\n",
      "Epoch 92/100\n",
      "32/32 - 0s - loss: 2.3421e-11\n",
      "Epoch 93/100\n",
      "32/32 - 0s - loss: 2.3040e-11\n",
      "Epoch 94/100\n",
      "32/32 - 0s - loss: 2.2728e-11\n",
      "Epoch 95/100\n",
      "32/32 - 0s - loss: 2.3382e-11\n",
      "Epoch 96/100\n",
      "32/32 - 0s - loss: 2.2826e-11\n",
      "Epoch 97/100\n",
      "32/32 - 0s - loss: 2.3569e-11\n",
      "Epoch 98/100\n",
      "32/32 - 0s - loss: 2.3652e-11\n",
      "Epoch 99/100\n",
      "32/32 - 0s - loss: 2.3194e-11\n",
      "Epoch 100/100\n",
      "32/32 - 0s - loss: 2.4180e-11\n"
     ]
    }
   ],
   "source": [
    "#data for dataset generation\n",
    "observations = 1000\n",
    "\n",
    "\n",
    "#data for creating model\n",
    "input_size = 2\n",
    "output_size = 1\n",
    "\n",
    "#data for fitting model\n",
    "input_dataa = training['inputs']\n",
    "target_dataa = training['targets']\n",
    "epochss = 100\n",
    "verboses = 2\n",
    "\n",
    "#generate data\n",
    "generate_random_inputs_and_targets(1000)\n",
    "\n",
    "#create model\n",
    "apply = model_set(input_size,output_size)\n",
    "\n",
    "#fit model\n",
    "apply_fit = model_fit(apply,input_dataa,target_dataa,epochss,verboses)\n",
    "\n",
    "\n"
   ]
  },
  {
   "cell_type": "markdown",
   "metadata": {},
   "source": [
    "## Extract weights and biases from Model"
   ]
  },
  {
   "cell_type": "code",
   "execution_count": 11,
   "metadata": {},
   "outputs": [
    {
     "data": {
      "text/plain": [
       "array([[1.9999999],\n",
       "       [3.0000002]], dtype=float32)"
      ]
     },
     "execution_count": 11,
     "metadata": {},
     "output_type": "execute_result"
    }
   ],
   "source": [
    "weight = apply.get_weights()[0]\n",
    "weight"
   ]
  },
  {
   "cell_type": "code",
   "execution_count": 12,
   "metadata": {},
   "outputs": [
    {
     "data": {
      "text/plain": [
       "array([3.9999952], dtype=float32)"
      ]
     },
     "execution_count": 12,
     "metadata": {},
     "output_type": "execute_result"
    }
   ],
   "source": [
    "bias = apply.get_weights()[1]\n",
    "bias"
   ]
  },
  {
   "cell_type": "markdown",
   "metadata": {},
   "source": [
    "## Predict on new data and Plot"
   ]
  },
  {
   "cell_type": "code",
   "execution_count": 21,
   "metadata": {},
   "outputs": [],
   "source": [
    "def predict_then_plot(model,input_data,target_data):\n",
    "    \n",
    "    prediction = apply.predict_on_batch(input_data)\n",
    "    targets = target_data\n",
    "    \n",
    "    plt.xlabel('outputs')\n",
    "    plt.ylabel('targets')\n",
    "    plt.plot(np.squeeze(prediction),np.squeeze(targets))\n",
    "    plt.show\n",
    "    \n",
    "    "
   ]
  },
  {
   "cell_type": "code",
   "execution_count": 22,
   "metadata": {},
   "outputs": [
    {
     "data": {
      "image/png": "[encoded data removed]",
      "text/plain": [
       "<Figure size 432x288 with 1 Axes>"
      ]
     },
     "metadata": {},
     "output_type": "display_data"
    }
   ],
   "source": [
    "#model = apply\n",
    "#input_dataa = training['inputs']\n",
    "#target_dataa = training['targets']\n",
    "\n",
    "predict_then_plot(apply,input_dataa,target_dataa)\n"
   ]
  },
  {
   "cell_type": "code",
   "execution_count": null,
   "metadata": {},
   "outputs": [],
   "source": []
  }
 ],
 "metadata": {
  "kernelspec": {
   "display_name": "Python 3",
   "language": "python",
   "name": "python3"
  },
  "language_info": {
   "codemirror_mode": {
    "name": "ipython",
    "version": 3
   },
   "file_extension": ".py",
   "mimetype": "text/x-python",
   "name": "python",
   "nbconvert_exporter": "python",
   "pygments_lexer": "ipython3",
   "version": "3.8.5"
  }
 },
 "nbformat": 4,
 "nbformat_minor": 4
}
